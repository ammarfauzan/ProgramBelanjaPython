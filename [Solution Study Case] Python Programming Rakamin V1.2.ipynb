{
 "cells": [
  {
   "cell_type": "markdown",
   "metadata": {
    "id": "kAwHpML8jD97"
   },
   "source": [
    "# Studi Kasus 1 - Catatan Belanja"
   ]
  },
  {
   "cell_type": "markdown",
   "metadata": {
    "id": "lo09CLfBjlLI"
   },
   "source": [
    "## Bagaimana membuat Inisialisasi data belanja dalam bentuk list yang item nya merupakanya kumpulan dictionary ? (Hint: gunakan 2 key \"item\" dan \"price\")\n",
    "\n"
   ]
  },
  {
   "cell_type": "code",
   "execution_count": 3,
   "metadata": {
    "id": "MN4ZLVOYjtHg"
   },
   "outputs": [],
   "source": [
    "list_items_shopping = [\n",
    "    {'item': 'Sabun', 'price': 5000},\n",
    "    {'item': 'Sikat Gigi', 'price': 3000},\n",
    "    {'item': 'Shampoo', 'price': 10000}\n",
    "]"
   ]
  },
  {
   "cell_type": "markdown",
   "metadata": {
    "id": "od9frq5wjvq5"
   },
   "source": [
    "## Bagaimana melakukan print yang rapih untuk daftar belanja yang ada ?"
   ]
  },
  {
   "cell_type": "code",
   "execution_count": 4,
   "metadata": {},
   "outputs": [
    {
     "name": "stdout",
     "output_type": "stream",
     "text": [
      "Daftar Belanja:\n",
      "      1. Sabun - Rp5000\n",
      "      2. Sikat Gigi - Rp3000\n",
      "      3. Shampoo - Rp10000\n",
      "\n"
     ]
    }
   ],
   "source": [
    "# Menampilkan daftar belanja\n",
    "print(\"\"\"Daftar Belanja:\n",
    "      1. Sabun - Rp5000\n",
    "      2. Sikat Gigi - Rp3000\n",
    "      3. Shampoo - Rp10000\n",
    "\"\"\")"
   ]
  },
  {
   "cell_type": "markdown",
   "metadata": {
    "id": "chE4giS0j3yg"
   },
   "source": [
    "## Membuat inputan yang ingin di pilih dan jumlah yang ingin dibeli"
   ]
  },
  {
   "cell_type": "code",
   "execution_count": 13,
   "metadata": {
    "id": "j7PqSCWgj_X9"
   },
   "outputs": [
    {
     "name": "stdin",
     "output_type": "stream",
     "text": [
      "Masukkan nomor item yang ingin dibeli (1-3):  2\n",
      "Masukkan jumlah yang ingin dibeli:  3\n"
     ]
    },
    {
     "name": "stdout",
     "output_type": "stream",
     "text": [
      "item_id : 1 jumlah: 3\n"
     ]
    }
   ],
   "source": [
    "# Pengguna memilih nomor item dan jumlah yang ingin dibeli\n",
    "item_id = int(input(\"Masukkan nomor item yang ingin dibeli (1-3): \")) - 1\n",
    "quantity = int(input(\"Masukkan jumlah yang ingin dibeli: \"))\n",
    "\n",
    "print(\"item_id :\", item_id,\"jumlah:\", quantity)"
   ]
  },
  {
   "cell_type": "markdown",
   "metadata": {
    "id": "UZoVi08DkAll"
   },
   "source": [
    "## Mengecek apakah pilihan valid. Expected output True / False dengan info apakah inputan valid atau tidak"
   ]
  },
  {
   "cell_type": "code",
   "execution_count": 14,
   "metadata": {
    "id": "Alqrh95FkD3i"
   },
   "outputs": [
    {
     "name": "stdout",
     "output_type": "stream",
     "text": [
      "Inputan sesuai\n"
     ]
    }
   ],
   "source": [
    "max_item_id = len(list_items_shopping)\n",
    "\n",
    "if item_id + 1 >= max_item_id or item_id + 1 < 0:\n",
    "    print(\"Inputan angka tidak sesuai\")\n",
    "else:\n",
    "    print(\"Inputan sesuai\")"
   ]
  },
  {
   "cell_type": "markdown",
   "metadata": {
    "id": "C0oTgx1okFmu"
   },
   "source": [
    "## Bagaimana melakukan pembelian ? membuat perkalian antara jumlah dan harga"
   ]
  },
  {
   "cell_type": "code",
   "execution_count": 15,
   "metadata": {
    "id": "1sxQea_ikGUQ"
   },
   "outputs": [
    {
     "name": "stdout",
     "output_type": "stream",
     "text": [
      "Anda membeli 3 Sikat Gigi seharga Rp 9000\n"
     ]
    }
   ],
   "source": [
    "# Melakukan pembelian\n",
    "price = list_items_shopping[item_id]['price'] * quantity\n",
    "print(f\"Anda membeli {quantity} {list_items_shopping[item_id]['item']} seharga Rp {price}\")"
   ]
  },
  {
   "cell_type": "markdown",
   "metadata": {
    "id": "db_hMysXkNav"
   },
   "source": [
    "## Bagaimana agar print Output Hasil Pembelian atau Struk Pembelian ?"
   ]
  },
  {
   "cell_type": "code",
   "execution_count": 17,
   "metadata": {
    "id": "6BkwprGveH3T"
   },
   "outputs": [
    {
     "name": "stdout",
     "output_type": "stream",
     "text": [
      "\n",
      "===== Struk Pembelian =====\n",
      "Item yang dibeli: Sikat Gigi\n",
      "Jumlah: 3\n",
      "Total Pembayaran: Rp 9000\n"
     ]
    }
   ],
   "source": [
    "# Output hasil pembelian\n",
    "print(\"\\n===== Struk Pembelian =====\")\n",
    "print(f\"Item yang dibeli: {list_items_shopping[item_id]['item']}\")\n",
    "print(f\"Jumlah: {quantity}\")\n",
    "print(f\"Total Pembayaran: Rp {price}\")"
   ]
  },
  {
   "cell_type": "markdown",
   "metadata": {
    "id": "2nMp_4bTkbQr"
   },
   "source": [
    "## Code Full"
   ]
  },
  {
   "cell_type": "code",
   "execution_count": 34,
   "metadata": {
    "id": "w1WCn651j-AB"
   },
   "outputs": [
    {
     "name": "stdout",
     "output_type": "stream",
     "text": [
      "Daftar Belanja:\n",
      "      1. Sabun - Rp5000\n",
      "      2. Sikat Gigi - Rp3000\n",
      "      3. Shampoo - Rp10000\n",
      "\n"
     ]
    },
    {
     "name": "stdin",
     "output_type": "stream",
     "text": [
      "Masukkan nomor item yang ingin dibeli (1-3):  1\n",
      "Masukkan jumlah yang ingin dibeli:  2\n"
     ]
    },
    {
     "name": "stdout",
     "output_type": "stream",
     "text": [
      "item_id : 0 jumlah: 2\n",
      "Inputan sesuai\n",
      "Anda membeli 2 Sabun seharga Rp 10000\n",
      "\n",
      "===== Struk Pembelian =====\n",
      "Item yang dibeli: Sabun\n",
      "Jumlah: 2\n",
      "Total Pembayaran: Rp 10000\n"
     ]
    }
   ],
   "source": [
    "# Membuat List Item\n",
    "list_items_shopping = [\n",
    "    {'item': 'Sabun', 'price': 5000},\n",
    "    {'item': 'Sikat Gigi', 'price': 3000},\n",
    "    {'item': 'Shampoo', 'price': 10000}\n",
    "]\n",
    "\n",
    "# Menampilkan daftar belanja\n",
    "print(\"\"\"Daftar Belanja:\n",
    "      1. Sabun - Rp5000\n",
    "      2. Sikat Gigi - Rp3000\n",
    "      3. Shampoo - Rp10000\n",
    "\"\"\")\n",
    "\n",
    "# Pengguna memilih nomor item dan jumlah yang ingin dibeli\n",
    "item_id = int(input(\"Masukkan nomor item yang ingin dibeli (1-3): \")) - 1\n",
    "quantity = int(input(\"Masukkan jumlah yang ingin dibeli: \"))\n",
    "\n",
    "print(\"item_id :\", item_id,\"jumlah:\", quantity)\n",
    "\n",
    "max_item_id = len(list_items_shopping)\n",
    "\n",
    "if item_id + 1 >= max_item_id or item_id + 1 < 0:\n",
    "    print(\"Inputan angka tidak sesuai\")\n",
    "else:\n",
    "    print(\"Inputan sesuai\")\n",
    "    \n",
    "# Melakukan pembelian\n",
    "price = list_items_shopping[item_id]['price'] * quantity\n",
    "print(f\"Anda membeli {quantity} {list_items_shopping[item_id]['item']} seharga Rp {price}\")\n",
    "\n",
    "# Output hasil pembelian\n",
    "print(\"\\n===== Struk Pembelian =====\")\n",
    "print(f\"Item yang dibeli: {list_items_shopping[item_id]['item']}\")\n",
    "print(f\"Jumlah: {quantity}\")\n",
    "print(f\"Total Pembayaran: Rp {price}\")"
   ]
  },
  {
   "cell_type": "markdown",
   "metadata": {
    "id": "LR2KQAsCkgSD"
   },
   "source": [
    "# Studi Kasus 2 - Mengembangkan Program Catatan Belanja"
   ]
  },
  {
   "cell_type": "markdown",
   "metadata": {
    "id": "STbkIP3RlVVv"
   },
   "source": [
    "## Bagaimana Anda dapat mengubah program ini sehingga pengguna dapat terus menambahkan item belanja baru hingga mereka memutuskan untuk berhenti?"
   ]
  },
  {
   "cell_type": "markdown",
   "metadata": {
    "id": "hAOdRXg3llAc"
   },
   "source": [
    "Hint : Kita dapat menambahkan loop while untuk menciptakan pengulangan hingga pengguna memilih untuk berhenti."
   ]
  },
  {
   "cell_type": "code",
   "execution_count": 31,
   "metadata": {},
   "outputs": [],
   "source": [
    "list_items_shopping = [\n",
    "    {'item': 'Sabun', 'price': 5000},\n",
    "    {'item': 'Sikat Gigi', 'price': 3000},\n",
    "    {'item': 'Shampoo', 'price': 10000}\n",
    "]"
   ]
  },
  {
   "cell_type": "code",
   "execution_count": 33,
   "metadata": {
    "id": "gy0xQDzekk3g"
   },
   "outputs": [
    {
     "name": "stdout",
     "output_type": "stream",
     "text": [
      "Daftar Belanja:\n",
      "            1. Sabun - Rp5000\n",
      "            2. Sikat Gigi - Rp3000\n",
      "            3. Shampoo - Rp10000\n",
      "    \n"
     ]
    },
    {
     "name": "stdin",
     "output_type": "stream",
     "text": [
      "Masukkan nomor item yang ingin dibeli (1-3), 10 untuk menyelesaikan pembayaran atau 0 untuk keluar:  2\n",
      "Masukkan jumlah yang ingin dibeli:  2\n"
     ]
    },
    {
     "name": "stdout",
     "output_type": "stream",
     "text": [
      "Cek 0\n",
      "Anda nemambahkan Sikat Gigi, sebanyak 2 ke keranjang dengan Harga 6000 \n",
      "\n",
      "6000 6000 6000\n",
      "Daftar Belanja:\n",
      "            1. Sabun - Rp5000\n",
      "            2. Sikat Gigi - Rp3000\n",
      "            3. Shampoo - Rp10000\n",
      "    \n"
     ]
    },
    {
     "name": "stdin",
     "output_type": "stream",
     "text": [
      "Masukkan nomor item yang ingin dibeli (1-3), 10 untuk menyelesaikan pembayaran atau 0 untuk keluar:  2\n",
      "Masukkan jumlah yang ingin dibeli:  2\n"
     ]
    },
    {
     "name": "stdout",
     "output_type": "stream",
     "text": [
      "Cek 6000\n",
      "Anda nemambahkan Sikat Gigi, sebanyak 2 ke keranjang dengan Harga 6000 \n",
      "\n",
      "6000 6000 12000\n",
      "Daftar Belanja:\n",
      "            1. Sabun - Rp5000\n",
      "            2. Sikat Gigi - Rp3000\n",
      "            3. Shampoo - Rp10000\n",
      "    \n"
     ]
    },
    {
     "name": "stdin",
     "output_type": "stream",
     "text": [
      "Masukkan nomor item yang ingin dibeli (1-3), 10 untuk menyelesaikan pembayaran atau 0 untuk keluar:  10\n"
     ]
    },
    {
     "name": "stdout",
     "output_type": "stream",
     "text": [
      "Total Pembayaran 12000\n"
     ]
    }
   ],
   "source": [
    "#Set variable initiate\n",
    "n_iteration = 0\n",
    "\n",
    "n_soap = 0\n",
    "n_shampoo = 0\n",
    "n_toothpaste = 0\n",
    "\n",
    "n_total_item = 0\n",
    "total_amount_payment = 0\n",
    "\n",
    "#Iterasi while\n",
    "while True:\n",
    "    \n",
    "    # Menampilkan daftar belanja\n",
    "    print(\"\"\"Daftar Belanja:\n",
    "            1. Sabun - Rp5000\n",
    "            2. Sikat Gigi - Rp3000\n",
    "            3. Shampoo - Rp10000\n",
    "    \"\"\")\n",
    "\n",
    "    #Handling input user\n",
    "    try:\n",
    "        #inputan item\n",
    "        item_id = int(input(\"Masukkan nomor item yang ingin dibeli (1-3), 10 untuk menyelesaikan pembayaran atau 0 untuk keluar: \"))    \n",
    "        \n",
    "        # Keluar atau Mengakhiri dari loop jika pengguna memilih 0 / 10\n",
    "        if item_id == 0:\n",
    "            print(\"Program Berhenti!\")\n",
    "            break\n",
    "        elif item_id == 10:\n",
    "            print(f\"Total Pembayaran {total_amount_payment}\")\n",
    "            break\n",
    "        elif item_id < 0 or item_id > len(list_items_shopping):\n",
    "            print(\"Maaf, input tidak sesuai dengan instruksi program\")\n",
    "            continue\n",
    "        #inputan quantity\n",
    "        quantity = int(input(\"Masukkan jumlah yang ingin dibeli: \"))\n",
    "    \n",
    "    except ValueError:\n",
    "        print(\"Input tidak valid. Harap masukkan angka.\")\n",
    "        continue\n",
    "       \n",
    "    #get value\n",
    "    item_name = list_items_shopping[item_id-1]['item']\n",
    "    item_price = list_items_shopping[item_id-1]['price']\n",
    "    total_price = quantity*item_price\n",
    "    \n",
    "    print(f\"Anda nemambahkan {item_name}, sebanyak {quantity} ke keranjang dengan Harga {total_price} \\n\")\n",
    "         \n",
    "    #calculation payment price\n",
    "    if item_name == 'Sabun':\n",
    "        price = total_price\n",
    "        n_soap += quantity\n",
    "    elif item_name == 'Sikat Gigi':\n",
    "        price = total_price\n",
    "        n_shampoo += quantity\n",
    "    elif item_name == 'Shampoo':\n",
    "        price = total_price\n",
    "        n_toothpaste += quantity\n",
    "    \n",
    "    #accumulation amount payment and item qty\n",
    "    total_amount_payment += price"
   ]
  },
  {
   "cell_type": "markdown",
   "metadata": {
    "id": "uVQutVcSlkOt"
   },
   "source": [
    "## Bagaimana Anda dapat menggunakan konsep function untuk menyederhanakan dan mengorganisir kode dalam program ini? Buatlah sebuah fungsi baru yang dapat digunakan untuk menampilkan daftar belanja."
   ]
  },
  {
   "cell_type": "markdown",
   "metadata": {
    "id": "m2SaJX5UluPy"
   },
   "source": [
    "Hint : Kita dapat membuat fungsi tampilkan_daftar_belanja untuk menampilkan daftar belanja. Fungsi ini dapat digunakan untuk mengurangi duplikasi kode dan membuat program lebih mudah dibaca."
   ]
  },
  {
   "cell_type": "code",
   "execution_count": 21,
   "metadata": {
    "id": "_n769amjlriE"
   },
   "outputs": [
    {
     "name": "stdout",
     "output_type": "stream",
     "text": [
      "Daftar Belanja:\n",
      "  1. Sabun - Rp5000\n",
      "  2. Sikat Gigi - Rp3000\n",
      "  3. Shampoo - Rp10000\n"
     ]
    }
   ],
   "source": [
    "# Fungsi untuk menampilkan daftar belanja\n",
    "def tampilkan_daftar_belanja(belanja):\n",
    "    print(\"Daftar Belanja:\")\n",
    "    for idx, item in enumerate(belanja, start=1):\n",
    "        print(f\"  {idx}. {item['item']} - Rp{item['price']}\")\n",
    "\n",
    "# Memanggil fungsi list item\n",
    "tampilkan_daftar_belanja(list_items_shopping)"
   ]
  },
  {
   "cell_type": "code",
   "execution_count": 35,
   "metadata": {},
   "outputs": [
    {
     "name": "stdout",
     "output_type": "stream",
     "text": [
      "Daftar Belanja:\n",
      "  1. Sabun - Rp5000\n",
      "  2. Sikat Gigi - Rp3000\n",
      "  3. Shampoo - Rp10000\n"
     ]
    },
    {
     "name": "stdin",
     "output_type": "stream",
     "text": [
      "Masukkan nomor item yang ingin dibeli (1-3), 10 untuk menyelesaikan pembayaran atau 0 untuk keluar:  2\n",
      "Masukkan jumlah yang ingin dibeli:  2\n"
     ]
    },
    {
     "name": "stdout",
     "output_type": "stream",
     "text": [
      "Anda nemambahkan Sikat Gigi, sebanyak 2 ke keranjang dengan Harga 6000 \n",
      "\n",
      "Daftar Belanja:\n",
      "  1. Sabun - Rp5000\n",
      "  2. Sikat Gigi - Rp3000\n",
      "  3. Shampoo - Rp10000\n"
     ]
    },
    {
     "name": "stdin",
     "output_type": "stream",
     "text": [
      "Masukkan nomor item yang ingin dibeli (1-3), 10 untuk menyelesaikan pembayaran atau 0 untuk keluar:  2\n",
      "Masukkan jumlah yang ingin dibeli:  3\n"
     ]
    },
    {
     "name": "stdout",
     "output_type": "stream",
     "text": [
      "Anda nemambahkan Sikat Gigi, sebanyak 3 ke keranjang dengan Harga 9000 \n",
      "\n",
      "Daftar Belanja:\n",
      "  1. Sabun - Rp5000\n",
      "  2. Sikat Gigi - Rp3000\n",
      "  3. Shampoo - Rp10000\n"
     ]
    },
    {
     "name": "stdin",
     "output_type": "stream",
     "text": [
      "Masukkan nomor item yang ingin dibeli (1-3), 10 untuk menyelesaikan pembayaran atau 0 untuk keluar:  10\n"
     ]
    },
    {
     "name": "stdout",
     "output_type": "stream",
     "text": [
      "Total Pembayaran 15000\n"
     ]
    }
   ],
   "source": [
    "#Set variable initiate\n",
    "n_iteration = 0\n",
    "\n",
    "n_soap = 0\n",
    "n_shampoo = 0\n",
    "n_toothpaste = 0\n",
    "\n",
    "n_total_item = 0\n",
    "total_amount_payment = 0\n",
    "\n",
    "#Iterasi while\n",
    "while True:\n",
    "    \n",
    "    # Menampilkan daftar belanja dengan function call\n",
    "    tampilkan_daftar_belanja(list_items_shopping)\n",
    "\n",
    "    #Handling input user\n",
    "    try:\n",
    "        #inputan item\n",
    "        item_id = int(input(\"Masukkan nomor item yang ingin dibeli (1-3), 10 untuk menyelesaikan pembayaran atau 0 untuk keluar: \"))    \n",
    "        \n",
    "        # Keluar atau Mengakhiri dari loop jika pengguna memilih 0 / 10\n",
    "        if item_id == 0:\n",
    "            print(\"Program Berhenti!\")\n",
    "            break\n",
    "        elif item_id == 10:\n",
    "            print(f\"Total Pembayaran {total_amount_payment}\")\n",
    "            break\n",
    "        elif item_id < 0 or item_id > len(list_items_shopping):\n",
    "            print(\"Maaf, input tidak sesuai dengan instruksi program\")\n",
    "            continue\n",
    "        #inputan quantity\n",
    "        quantity = int(input(\"Masukkan jumlah yang ingin dibeli: \"))\n",
    "    \n",
    "    except ValueError:\n",
    "        print(\"Input tidak valid. Harap masukkan angka.\")\n",
    "        continue\n",
    "       \n",
    "    #get value\n",
    "    item_name = list_items_shopping[item_id-1]['item']\n",
    "    item_price = list_items_shopping[item_id-1]['price']\n",
    "    total_price = quantity*item_price\n",
    "    \n",
    "    print(f\"Anda nemambahkan {item_name}, sebanyak {quantity} ke keranjang dengan Harga {total_price} \\n\")\n",
    "         \n",
    "    #calculation payment price\n",
    "    if item_name == 'Sabun':\n",
    "        price = total_price\n",
    "        n_soap += quantity\n",
    "    elif item_name == 'Sikat Gigi':\n",
    "        price = total_price\n",
    "        n_shampoo += quantity\n",
    "    elif item_name == 'Shampoo':\n",
    "        price = total_price\n",
    "        n_toothpaste += quantity\n",
    "    \n",
    "    #accumulation amount payment and item qty\n",
    "    total_amount_payment += price"
   ]
  },
  {
   "cell_type": "markdown",
   "metadata": {
    "id": "8WBlqFI3lvXz"
   },
   "source": [
    "## Bagaimana Anda bisa menambahkan kondisi baru untuk memberikan diskon tambahan, misalnya, memberikan diskon 5% tambahan jika pengguna membeli lebih dari 3 item atau 10% jika total pembelian sudah mencapai Rp 200.000"
   ]
  },
  {
   "cell_type": "markdown",
   "metadata": {
    "id": "UrNrTmgAl13U"
   },
   "source": [
    "Hint : Kita dapat menambahkan kondisi baru setelah kondisi diskon yang ada untuk mengecek apakah jumlah item yang dibeli lebih dari 3 atau total pembelian sudah mencapai 200.000."
   ]
  },
  {
   "cell_type": "code",
   "execution_count": 36,
   "metadata": {
    "id": "CSUrFb9Kl0Qe"
   },
   "outputs": [],
   "source": [
    "def check_promo(n_payment, n_item):\n",
    "    # Nested Conditional Statement untuk memberikan diskon\n",
    "    if total_amount_payment > 20000:\n",
    "        discount = total_amount_payment * 0.1\n",
    "        final_total_amount_payment = total_amount_payment - discount\n",
    "        message_promo = 'Diskon 10% diberikan!'\n",
    "    elif n_item > 3:\n",
    "        discount = total_amount_payment * 0.05\n",
    "        final_total_amount_payment = total_amount_payment - discount\n",
    "        message_promo = 'Diskon 5% tambahan diberikan karena pembelian lebih dari 3 item!'\n",
    "    else:\n",
    "        discount = 0\n",
    "        message_promo = \"Maaf, Anda tidak memenuhi syarat untuk diskon.\"\n",
    "        final_total_amount_payment = total_amount_payment\n",
    "        \n",
    "    return final_total_amount_payment, discount, message_promo"
   ]
  },
  {
   "cell_type": "code",
   "execution_count": 37,
   "metadata": {},
   "outputs": [
    {
     "name": "stdout",
     "output_type": "stream",
     "text": [
      "Daftar Belanja:\n",
      "  1. Sabun - Rp5000\n",
      "  2. Sikat Gigi - Rp3000\n",
      "  3. Shampoo - Rp10000\n"
     ]
    },
    {
     "name": "stdin",
     "output_type": "stream",
     "text": [
      "Masukkan nomor item yang ingin dibeli (1-3), 10 untuk menyelesaikan pembayaran atau 0 untuk keluar:  2\n",
      "Masukkan jumlah yang ingin dibeli:  3\n"
     ]
    },
    {
     "name": "stdout",
     "output_type": "stream",
     "text": [
      "Anda nemambahkan Sikat Gigi, sebanyak 3 ke keranjang dengan Harga 9000 \n",
      "\n",
      "Daftar Belanja:\n",
      "  1. Sabun - Rp5000\n",
      "  2. Sikat Gigi - Rp3000\n",
      "  3. Shampoo - Rp10000\n"
     ]
    },
    {
     "name": "stdin",
     "output_type": "stream",
     "text": [
      "Masukkan nomor item yang ingin dibeli (1-3), 10 untuk menyelesaikan pembayaran atau 0 untuk keluar:  1\n",
      "Masukkan jumlah yang ingin dibeli:  5\n"
     ]
    },
    {
     "name": "stdout",
     "output_type": "stream",
     "text": [
      "Anda nemambahkan Sabun, sebanyak 5 ke keranjang dengan Harga 25000 \n",
      "\n",
      "Daftar Belanja:\n",
      "  1. Sabun - Rp5000\n",
      "  2. Sikat Gigi - Rp3000\n",
      "  3. Shampoo - Rp10000\n"
     ]
    },
    {
     "name": "stdin",
     "output_type": "stream",
     "text": [
      "Masukkan nomor item yang ingin dibeli (1-3), 10 untuk menyelesaikan pembayaran atau 0 untuk keluar:  2\n",
      "Masukkan jumlah yang ingin dibeli:  10\n"
     ]
    },
    {
     "name": "stdout",
     "output_type": "stream",
     "text": [
      "Anda nemambahkan Sikat Gigi, sebanyak 10 ke keranjang dengan Harga 30000 \n",
      "\n",
      "Daftar Belanja:\n",
      "  1. Sabun - Rp5000\n",
      "  2. Sikat Gigi - Rp3000\n",
      "  3. Shampoo - Rp10000\n"
     ]
    },
    {
     "name": "stdin",
     "output_type": "stream",
     "text": [
      "Masukkan nomor item yang ingin dibeli (1-3), 10 untuk menyelesaikan pembayaran atau 0 untuk keluar:  10\n"
     ]
    },
    {
     "name": "stdout",
     "output_type": "stream",
     "text": [
      "Total Pembayaran sebelum discount 64000\n",
      "Total Pembayaran setelah discount 57600.0\n",
      "Diskon 10% diberikan!\n"
     ]
    }
   ],
   "source": [
    "#Set variable initiate\n",
    "n_iteration = 0\n",
    "\n",
    "n_soap = 0\n",
    "n_shampoo = 0\n",
    "n_toothpaste = 0\n",
    "\n",
    "n_total_item = 0\n",
    "total_amount_payment = 0\n",
    "\n",
    "#Iterasi while\n",
    "while True:\n",
    "    \n",
    "    # Menampilkan daftar belanja dengan function call\n",
    "    tampilkan_daftar_belanja(list_items_shopping)\n",
    "\n",
    "    #Handling input user\n",
    "    try:\n",
    "        #inputan item\n",
    "        item_id = int(input(\"Masukkan nomor item yang ingin dibeli (1-3), 10 untuk menyelesaikan pembayaran atau 0 untuk keluar: \"))    \n",
    "        \n",
    "        # Keluar atau Mengakhiri dari loop jika pengguna memilih 0 / 10\n",
    "        if item_id == 0:\n",
    "            print(\"Program Berhenti!\")\n",
    "            break\n",
    "        elif item_id == 10:\n",
    "            if final_discount > 0:\n",
    "                print(f\"Total Pembayaran sebelum discount {total_amount_payment}\")\n",
    "                print(f\"Total Pembayaran setelah discount {final_amount_payment}\")\n",
    "                print(final_message_promo)\n",
    "            else:\n",
    "                print(f\"Total Pembayaran {final_amount_payment}\")\n",
    "                print(final_message_promo)\n",
    "            break\n",
    "        elif item_id < 0 or item_id > len(list_items_shopping):\n",
    "            print(\"Maaf, input tidak sesuai dengan instruksi program\")\n",
    "            continue\n",
    "        #inputan quantity\n",
    "        quantity = int(input(\"Masukkan jumlah yang ingin dibeli: \"))\n",
    "    \n",
    "    except ValueError:\n",
    "        print(\"Input tidak valid. Harap masukkan angka.\")\n",
    "        continue\n",
    "       \n",
    "    #get value\n",
    "    item_name = list_items_shopping[item_id-1]['item']\n",
    "    item_price = list_items_shopping[item_id-1]['price']\n",
    "    total_price = quantity*item_price\n",
    "    \n",
    "    print(f\"Anda nemambahkan {item_name}, sebanyak {quantity} ke keranjang dengan Harga {total_price} \\n\")\n",
    "         \n",
    "    #calculation payment price\n",
    "    if item_name == 'Sabun':\n",
    "        price = total_price\n",
    "        n_soap += quantity\n",
    "    elif item_name == 'Sikat Gigi':\n",
    "        price = total_price\n",
    "        n_shampoo += quantity\n",
    "    elif item_name == 'Shampoo':\n",
    "        price = total_price\n",
    "        n_toothpaste += quantity\n",
    "    \n",
    "    #accumulation amount payment and item qty\n",
    "    total_amount_payment += price\n",
    "    n_item = n_soap + n_shampoo + n_toothpaste\n",
    "    \n",
    "    #check promo schema\n",
    "    final_amount_payment, final_discount, final_message_promo = check_promo(total_amount_payment, n_item)"
   ]
  },
  {
   "cell_type": "markdown",
   "metadata": {
    "id": "HynzDFh8l5GE"
   },
   "source": [
    "## Mengapa penting untuk menangani kesalahan input pengguna? Bagaimana Anda dapat memperbaiki atau menangani kesalahan jika pengguna memasukkan nilai yang bukan angka?"
   ]
  },
  {
   "cell_type": "markdown",
   "metadata": {
    "id": "XKIvNwghl89F"
   },
   "source": [
    "Penting untuk menangani kesalahan input pengguna untuk mencegah program crash jika pengguna memasukkan nilai yang tidak valid, seperti huruf atau simbol. Kesalahan ini dapat diatasi dengan menggunakan blok try-except untuk menangkap kesalahan dan memberikan umpan balik yang sesuai kepada pengguna."
   ]
  },
  {
   "cell_type": "code",
   "execution_count": 38,
   "metadata": {
    "colab": {
     "base_uri": "https://localhost:8080/"
    },
    "id": "lylXDlenl-tV",
    "outputId": "f95cc421-ad55-4dc0-c61d-09d446734eb6"
   },
   "outputs": [],
   "source": [
    "#Menggunakan Try and Except"
   ]
  },
  {
   "cell_type": "code",
   "execution_count": null,
   "metadata": {},
   "outputs": [],
   "source": [
    "#Set variable initiate\n",
    "n_iteration = 0\n",
    "\n",
    "n_soap = 0\n",
    "n_shampoo = 0\n",
    "n_toothpaste = 0\n",
    "\n",
    "n_total_item = 0\n",
    "total_amount_payment = 0\n",
    "\n",
    "#Iterasi while\n",
    "while True:\n",
    "    \n",
    "    # Menampilkan daftar belanja dengan function call\n",
    "    tampilkan_daftar_belanja(list_items_shopping)\n",
    "\n",
    "    #Handling input user\n",
    "    try:\n",
    "        #inputan item\n",
    "        item_id = int(input(\"Masukkan nomor item yang ingin dibeli (1-3), 10 untuk menyelesaikan pembayaran atau 0 untuk keluar: \"))    \n",
    "        \n",
    "        # Keluar atau Mengakhiri dari loop jika pengguna memilih 0 / 10\n",
    "        if item_id == 0:\n",
    "            print(\"Program Berhenti!\")\n",
    "            break\n",
    "        elif item_id == 10:\n",
    "            if final_discount > 0:\n",
    "                print(f\"Total Pembayaran sebelum discount {total_amount_payment}\")\n",
    "                print(f\"Total Pembayaran setelah discount {final_amount_payment}\")\n",
    "                print(final_message_promo)\n",
    "            else:\n",
    "                print(f\"Total Pembayaran {final_amount_payment}\")\n",
    "                print(final_message_promo)\n",
    "            break\n",
    "        elif item_id < 0 or item_id > len(list_items_shopping):\n",
    "            print(\"Maaf, input tidak sesuai dengan instruksi program\")\n",
    "            continue\n",
    "        #inputan quantity\n",
    "        quantity = int(input(\"Masukkan jumlah yang ingin dibeli: \"))\n",
    "    \n",
    "    except ValueError:\n",
    "        print(\"Input tidak valid. Harap masukkan angka.\")\n",
    "        continue\n",
    "       \n",
    "    #get value\n",
    "    item_name = list_items_shopping[item_id-1]['item']\n",
    "    item_price = list_items_shopping[item_id-1]['price']\n",
    "    total_price = quantity*item_price\n",
    "    \n",
    "    print(f\"Anda nemambahkan {item_name}, sebanyak {quantity} ke keranjang dengan Harga {total_price} \\n\")\n",
    "         \n",
    "    #calculation payment price\n",
    "    if item_name == 'Sabun':\n",
    "        price = total_price\n",
    "        n_soap += quantity\n",
    "    elif item_name == 'Sikat Gigi':\n",
    "        price = total_price\n",
    "        n_shampoo += quantity\n",
    "    elif item_name == 'Shampoo':\n",
    "        price = total_price\n",
    "        n_toothpaste += quantity\n",
    "    \n",
    "    #accumulation amount payment and item qty\n",
    "    total_amount_payment += price\n",
    "    n_item = n_soap + n_shampoo + n_toothpaste\n",
    "    \n",
    "    #check promo schema\n",
    "    final_amount_payment, final_discount, final_message_promo = check_promo(total_amount_payment, n_item)"
   ]
  },
  {
   "cell_type": "markdown",
   "metadata": {
    "id": "bxryLbLqmtbK"
   },
   "source": [
    "## [Improve Your Program] Bagaimana Anda dapat menggabungkan semua konsep yang telah kita pelajari dalam materi ini ke dalam program catatan belanja? Buatlah perubahan atau tambahan kode yang memanfaatkan Conditional Statement, Loop & Iteration, Function, dan Error Handling secara efektif."
   ]
  },
  {
   "cell_type": "code",
   "execution_count": 18,
   "metadata": {
    "id": "U4aQAsptmxui"
   },
   "outputs": [],
   "source": [
    "def extract_item(item_id):\n",
    "    #get value\n",
    "    item_name = list_items_shopping[item_id-1]['item']\n",
    "    item_price = list_items_shopping[item_id-1]['price']\n",
    "    price = quantity*item_price\n",
    "    return item_name, item_price, price"
   ]
  },
  {
   "cell_type": "code",
   "execution_count": 39,
   "metadata": {},
   "outputs": [
    {
     "name": "stdout",
     "output_type": "stream",
     "text": [
      "Daftar Belanja:\n",
      "  1. Sabun - Rp5000\n",
      "  2. Sikat Gigi - Rp3000\n",
      "  3. Shampoo - Rp10000\n"
     ]
    },
    {
     "name": "stdin",
     "output_type": "stream",
     "text": [
      "Masukkan nomor item yang ingin dibeli (1-3), 10 untuk menyelesaikan pembayaran atau 0 untuk keluar:  2\n",
      "Masukkan jumlah yang ingin dibeli:  10\n"
     ]
    },
    {
     "name": "stdout",
     "output_type": "stream",
     "text": [
      "Anda nemambahkan Sikat Gigi, sebanyak 10 ke keranjang dengan Harga 30000 \n",
      "\n"
     ]
    },
    {
     "name": "stdin",
     "output_type": "stream",
     "text": [
      "Masukkan nomor item yang ingin dibeli (1-3), 10 untuk menyelesaikan pembayaran atau 0 untuk keluar:  3\n",
      "Masukkan jumlah yang ingin dibeli:  10\n"
     ]
    },
    {
     "name": "stdout",
     "output_type": "stream",
     "text": [
      "Anda nemambahkan Shampoo, sebanyak 10 ke keranjang dengan Harga 100000 \n",
      "\n"
     ]
    },
    {
     "name": "stdin",
     "output_type": "stream",
     "text": [
      "Masukkan nomor item yang ingin dibeli (1-3), 10 untuk menyelesaikan pembayaran atau 0 untuk keluar:  10\n"
     ]
    },
    {
     "name": "stdout",
     "output_type": "stream",
     "text": [
      "Total Pembayaran sebelum discount 130000\n",
      "Total Pembayaran setelah discount 117000.0\n",
      "Diskon 10% diberikan!\n"
     ]
    }
   ],
   "source": [
    "#Set variable initiate\n",
    "n_iteration = 0\n",
    "\n",
    "n_soap = 0\n",
    "n_shampoo = 0\n",
    "n_toothpaste = 0\n",
    "\n",
    "n_total_item = 0\n",
    "total_amount_payment = 0\n",
    "\n",
    "#Iterasi while\n",
    "while True:\n",
    "    \n",
    "    #Show Decription only once\n",
    "    if n_iteration == 0:\n",
    "        tampilkan_daftar_belanja(list_items_shopping)\n",
    "    \n",
    "    n_iteration += 1\n",
    "\n",
    "    #Handling input user\n",
    "    try:\n",
    "        #inputan item\n",
    "        item_id = int(input(\"Masukkan nomor item yang ingin dibeli (1-3), 10 untuk menyelesaikan pembayaran atau 0 untuk keluar: \"))    \n",
    "        \n",
    "        # Keluar atau Mengakhiri dari loop jika pengguna memilih 0 / 10\n",
    "        if item_id == 0:\n",
    "            print(\"Program Berhenti!\")\n",
    "            break\n",
    "        elif item_id == 10:\n",
    "            if final_discount > 0:\n",
    "                print(f\"Total Pembayaran sebelum discount {total_amount_payment}\")\n",
    "                print(f\"Total Pembayaran setelah discount {final_amount_payment}\")\n",
    "                print(final_message_promo)\n",
    "            else:\n",
    "                print(f\"Total Pembayaran {final_amount_payment}\")\n",
    "                print(final_message_promo)\n",
    "            break\n",
    "        elif item_id < 0 or item_id > len(list_items_shopping):\n",
    "            print(\"Maaf, input tidak sesuai dengan instruksi program\")\n",
    "            continue\n",
    "        #inputan quantity\n",
    "        quantity = int(input(\"Masukkan jumlah yang ingin dibeli: \"))\n",
    "    \n",
    "    except ValueError:\n",
    "        print(\"Input tidak valid. Harap masukkan angka.\")\n",
    "        continue\n",
    "           \n",
    "    #get detail data\n",
    "    item_name, item_price, total_price = extract_item(item_id)\n",
    "    \n",
    "    print(f\"Anda nemambahkan {item_name}, sebanyak {quantity} ke keranjang dengan Harga {total_price} \\n\")\n",
    "         \n",
    "    #calculation payment price\n",
    "    if item_name == 'Sabun':\n",
    "        price = total_price\n",
    "        n_soap += quantity\n",
    "    elif item_name == 'Sikat Gigi':\n",
    "        price = total_price\n",
    "        n_shampoo += quantity\n",
    "    elif item_name == 'Shampoo':\n",
    "        price = total_price\n",
    "        n_toothpaste += quantity\n",
    "        \n",
    "    \n",
    "    #accumulation amount payment and item qty\n",
    "    total_amount_payment += price\n",
    "    n_item = n_soap + n_shampoo + n_toothpaste\n",
    "    \n",
    "    #check promo schema\n",
    "    final_amount_payment, final_discount, final_message_promo = check_promo(total_amount_payment, n_item)"
   ]
  }
 ],
 "metadata": {
  "colab": {
   "collapsed_sections": [
    "kAwHpML8jD97",
    "LR2KQAsCkgSD"
   ],
   "provenance": []
  },
  "kernelspec": {
   "display_name": "Python 3 (ipykernel)",
   "language": "python",
   "name": "python3"
  },
  "language_info": {
   "codemirror_mode": {
    "name": "ipython",
    "version": 3
   },
   "file_extension": ".py",
   "mimetype": "text/x-python",
   "name": "python",
   "nbconvert_exporter": "python",
   "pygments_lexer": "ipython3",
   "version": "3.9.13"
  }
 },
 "nbformat": 4,
 "nbformat_minor": 4
}
